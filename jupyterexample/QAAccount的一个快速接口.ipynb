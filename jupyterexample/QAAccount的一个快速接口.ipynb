{
 "cells": [
  {
   "cell_type": "code",
   "execution_count": 1,
   "metadata": {},
   "outputs": [],
   "source": [
    "import QUANTAXIS as QA"
   ]
  },
  {
   "cell_type": "code",
   "execution_count": 2,
   "metadata": {},
   "outputs": [],
   "source": [
    "user = QA.QA_User(username='admin', password='admin')"
   ]
  },
  {
   "cell_type": "code",
   "execution_count": 3,
   "metadata": {},
   "outputs": [
    {
     "name": "stdout",
     "output_type": "stream",
     "text": [
      " prortfolio with user_cookie  USER_lT8yva0f  already exist!!\n"
     ]
    }
   ],
   "source": [
    "port = user.new_portfolio('test_newAccounts')"
   ]
  },
  {
   "cell_type": "code",
   "execution_count": 4,
   "metadata": {},
   "outputs": [],
   "source": [
    "x1 = port.new_account('x1', market_type=QA.MARKET_TYPE.FUTURE_CN)"
   ]
  },
  {
   "cell_type": "code",
   "execution_count": 5,
   "metadata": {},
   "outputs": [
    {
     "data": {
      "text/plain": [
       "[]"
      ]
     },
     "execution_count": 5,
     "metadata": {},
     "output_type": "execute_result"
    }
   ],
   "source": [
    "x1.history"
   ]
  },
  {
   "cell_type": "code",
   "execution_count": 6,
   "metadata": {},
   "outputs": [
    {
     "data": {
      "text/plain": [
       "< QA_Order realorder_id Order_uyB1xlGT datetime:2020-01-10 09:31:00 code:RBL8 amount:1 price:3600 towards:2 btype:future_cn order_id:Order_uyB1xlGT account:x1 status:queued >"
      ]
     },
     "execution_count": 6,
     "metadata": {},
     "output_type": "execute_result"
    }
   ],
   "source": [
    "x1.buy('RBL8', 3600, amount=1, time = '2020-01-10')"
   ]
  },
  {
   "cell_type": "code",
   "execution_count": 7,
   "metadata": {},
   "outputs": [
    {
     "name": "stdout",
     "output_type": "stream",
     "text": [
      "QAACCOUNT ==> receive deal\n"
     ]
    }
   ],
   "source": [
    "x1.buy('RBL8', 3600, amount=1, time = '2020-01-10', if_selfdeal=True)"
   ]
  },
  {
   "cell_type": "code",
   "execution_count": 8,
   "metadata": {},
   "outputs": [
    {
     "data": {
      "text/html": [
       "<div>\n",
       "<style scoped>\n",
       "    .dataframe tbody tr th:only-of-type {\n",
       "        vertical-align: middle;\n",
       "    }\n",
       "\n",
       "    .dataframe tbody tr th {\n",
       "        vertical-align: top;\n",
       "    }\n",
       "\n",
       "    .dataframe thead th {\n",
       "        text-align: right;\n",
       "    }\n",
       "</style>\n",
       "<table border=\"1\" class=\"dataframe\">\n",
       "  <thead>\n",
       "    <tr style=\"text-align: right;\">\n",
       "      <th></th>\n",
       "      <th>datetime</th>\n",
       "      <th>code</th>\n",
       "      <th>price</th>\n",
       "      <th>amount</th>\n",
       "      <th>cash</th>\n",
       "      <th>order_id</th>\n",
       "      <th>realorder_id</th>\n",
       "      <th>trade_id</th>\n",
       "      <th>account_cookie</th>\n",
       "      <th>commission</th>\n",
       "      <th>tax</th>\n",
       "      <th>message</th>\n",
       "      <th>frozen</th>\n",
       "      <th>direction</th>\n",
       "      <th>total_frozen</th>\n",
       "    </tr>\n",
       "  </thead>\n",
       "  <tbody>\n",
       "    <tr>\n",
       "      <th>0</th>\n",
       "      <td>2020-01-10 09:31:00</td>\n",
       "      <td>RBL8</td>\n",
       "      <td>3600.0</td>\n",
       "      <td>1</td>\n",
       "      <td>996756.4</td>\n",
       "      <td>Order_tuG7OnAT</td>\n",
       "      <td>Order_tuG7OnAT</td>\n",
       "      <td>buy</td>\n",
       "      <td>x1</td>\n",
       "      <td>3.6</td>\n",
       "      <td>0</td>\n",
       "      <td>None</td>\n",
       "      <td>3240.0</td>\n",
       "      <td>2</td>\n",
       "      <td>3240.0</td>\n",
       "    </tr>\n",
       "  </tbody>\n",
       "</table>\n",
       "</div>"
      ],
      "text/plain": [
       "              datetime  code   price  amount      cash        order_id  \\\n",
       "0  2020-01-10 09:31:00  RBL8  3600.0       1  996756.4  Order_tuG7OnAT   \n",
       "\n",
       "     realorder_id trade_id account_cookie  commission  tax message  frozen  \\\n",
       "0  Order_tuG7OnAT      buy             x1         3.6    0    None  3240.0   \n",
       "\n",
       "   direction  total_frozen  \n",
       "0          2        3240.0  "
      ]
     },
     "execution_count": 8,
     "metadata": {},
     "output_type": "execute_result"
    }
   ],
   "source": [
    "x1.history_table"
   ]
  },
  {
   "cell_type": "code",
   "execution_count": 13,
   "metadata": {},
   "outputs": [
    {
     "data": {
      "text/plain": [
       "[< QA_Order realorder_id Order_uyB1xlGT datetime:2020-01-10 09:31:00 code:RBL8 amount:1 price:3600 towards:2 btype:future_cn order_id:Order_uyB1xlGT account:x1 status:queued >]"
      ]
     },
     "execution_count": 13,
     "metadata": {},
     "output_type": "execute_result"
    }
   ],
   "source": [
    "x1.orders.pending"
   ]
  },
  {
   "cell_type": "code",
   "execution_count": 16,
   "metadata": {},
   "outputs": [
    {
     "data": {
      "text/html": [
       "<div>\n",
       "<style scoped>\n",
       "    .dataframe tbody tr th:only-of-type {\n",
       "        vertical-align: middle;\n",
       "    }\n",
       "\n",
       "    .dataframe tbody tr th {\n",
       "        vertical-align: top;\n",
       "    }\n",
       "\n",
       "    .dataframe thead th {\n",
       "        text-align: right;\n",
       "    }\n",
       "</style>\n",
       "<table border=\"1\" class=\"dataframe\">\n",
       "  <thead>\n",
       "    <tr style=\"text-align: right;\">\n",
       "      <th></th>\n",
       "      <th>_status</th>\n",
       "      <th>account_cookie</th>\n",
       "      <th>amount</th>\n",
       "      <th>amount_model</th>\n",
       "      <th>broker</th>\n",
       "      <th>callback</th>\n",
       "      <th>cancel_amount</th>\n",
       "      <th>code</th>\n",
       "      <th>commission_coeff</th>\n",
       "      <th>date</th>\n",
       "      <th>...</th>\n",
       "      <th>strategy</th>\n",
       "      <th>tax_coeff</th>\n",
       "      <th>time_condition</th>\n",
       "      <th>towards</th>\n",
       "      <th>trade_amount</th>\n",
       "      <th>trade_id</th>\n",
       "      <th>trade_price</th>\n",
       "      <th>trade_time</th>\n",
       "      <th>type</th>\n",
       "      <th>user_cookie</th>\n",
       "    </tr>\n",
       "  </thead>\n",
       "  <tbody>\n",
       "    <tr>\n",
       "      <th>0</th>\n",
       "      <td>queued</td>\n",
       "      <td>x1</td>\n",
       "      <td>1</td>\n",
       "      <td>by_amount</td>\n",
       "      <td>backtest</td>\n",
       "      <td>&lt;bound method QA_Account.receive_deal of &lt; QA_...</td>\n",
       "      <td>0</td>\n",
       "      <td>RBL8</td>\n",
       "      <td>0.00025</td>\n",
       "      <td>2020-01-10</td>\n",
       "      <td>...</td>\n",
       "      <td>None</td>\n",
       "      <td>0.001</td>\n",
       "      <td>GFD</td>\n",
       "      <td>2</td>\n",
       "      <td>0</td>\n",
       "      <td>[]</td>\n",
       "      <td>0.0</td>\n",
       "      <td>[]</td>\n",
       "      <td>future_cn</td>\n",
       "      <td>USER_lT8yva0f</td>\n",
       "    </tr>\n",
       "    <tr>\n",
       "      <th>0</th>\n",
       "      <td>success_all</td>\n",
       "      <td>x1</td>\n",
       "      <td>1</td>\n",
       "      <td>by_amount</td>\n",
       "      <td>backtest</td>\n",
       "      <td>&lt;bound method QA_Account.receive_deal of &lt; QA_...</td>\n",
       "      <td>0</td>\n",
       "      <td>RBL8</td>\n",
       "      <td>0.00025</td>\n",
       "      <td>2020-01-10</td>\n",
       "      <td>...</td>\n",
       "      <td>None</td>\n",
       "      <td>0.001</td>\n",
       "      <td>GFD</td>\n",
       "      <td>2</td>\n",
       "      <td>1</td>\n",
       "      <td>[buy]</td>\n",
       "      <td>3600.0</td>\n",
       "      <td>[2020-01-10 09:31:00]</td>\n",
       "      <td>future_cn</td>\n",
       "      <td>USER_lT8yva0f</td>\n",
       "    </tr>\n",
       "  </tbody>\n",
       "</table>\n",
       "<p>2 rows × 33 columns</p>\n",
       "</div>"
      ],
      "text/plain": [
       "       _status account_cookie  amount amount_model    broker  \\\n",
       "0       queued             x1       1    by_amount  backtest   \n",
       "0  success_all             x1       1    by_amount  backtest   \n",
       "\n",
       "                                            callback  cancel_amount  code  \\\n",
       "0  <bound method QA_Account.receive_deal of < QA_...              0  RBL8   \n",
       "0  <bound method QA_Account.receive_deal of < QA_...              0  RBL8   \n",
       "\n",
       "   commission_coeff        date  ... strategy tax_coeff time_condition  \\\n",
       "0           0.00025  2020-01-10  ...     None     0.001            GFD   \n",
       "0           0.00025  2020-01-10  ...     None     0.001            GFD   \n",
       "\n",
       "  towards trade_amount  trade_id trade_price             trade_time  \\\n",
       "0       2            0        []         0.0                     []   \n",
       "0       2            1     [buy]      3600.0  [2020-01-10 09:31:00]   \n",
       "\n",
       "        type    user_cookie  \n",
       "0  future_cn  USER_lT8yva0f  \n",
       "0  future_cn  USER_lT8yva0f  \n",
       "\n",
       "[2 rows x 33 columns]"
      ]
     },
     "execution_count": 16,
     "metadata": {},
     "output_type": "execute_result"
    }
   ],
   "source": [
    "x1.orders.to_df()"
   ]
  },
  {
   "cell_type": "code",
   "execution_count": 19,
   "metadata": {},
   "outputs": [
    {
     "data": {
      "text/plain": [
       "code\n",
       "RBL8    1\n",
       "Name: amount, dtype: int64"
      ]
     },
     "execution_count": 19,
     "metadata": {},
     "output_type": "execute_result"
    }
   ],
   "source": [
    "x1.hold_table()"
   ]
  },
  {
   "cell_type": "code",
   "execution_count": 21,
   "metadata": {},
   "outputs": [
    {
     "name": "stdout",
     "output_type": "stream",
     "text": [
      "QAACCOUNT ==> receive deal\n"
     ]
    }
   ],
   "source": [
    "x1.sell_close('RBL8', 3603, amount=1, time = '2020-01-13', if_selfdeal=True)"
   ]
  },
  {
   "cell_type": "code",
   "execution_count": 22,
   "metadata": {},
   "outputs": [
    {
     "data": {
      "text/html": [
       "<div>\n",
       "<style scoped>\n",
       "    .dataframe tbody tr th:only-of-type {\n",
       "        vertical-align: middle;\n",
       "    }\n",
       "\n",
       "    .dataframe tbody tr th {\n",
       "        vertical-align: top;\n",
       "    }\n",
       "\n",
       "    .dataframe thead th {\n",
       "        text-align: right;\n",
       "    }\n",
       "</style>\n",
       "<table border=\"1\" class=\"dataframe\">\n",
       "  <thead>\n",
       "    <tr style=\"text-align: right;\">\n",
       "      <th></th>\n",
       "      <th>datetime</th>\n",
       "      <th>code</th>\n",
       "      <th>price</th>\n",
       "      <th>amount</th>\n",
       "      <th>cash</th>\n",
       "      <th>order_id</th>\n",
       "      <th>realorder_id</th>\n",
       "      <th>trade_id</th>\n",
       "      <th>account_cookie</th>\n",
       "      <th>commission</th>\n",
       "      <th>tax</th>\n",
       "      <th>message</th>\n",
       "      <th>frozen</th>\n",
       "      <th>direction</th>\n",
       "      <th>total_frozen</th>\n",
       "    </tr>\n",
       "  </thead>\n",
       "  <tbody>\n",
       "    <tr>\n",
       "      <th>0</th>\n",
       "      <td>2020-01-10 09:31:00</td>\n",
       "      <td>RBL8</td>\n",
       "      <td>3600.0</td>\n",
       "      <td>1</td>\n",
       "      <td>996756.400</td>\n",
       "      <td>Order_tuG7OnAT</td>\n",
       "      <td>Order_tuG7OnAT</td>\n",
       "      <td>buy</td>\n",
       "      <td>x1</td>\n",
       "      <td>3.600</td>\n",
       "      <td>0</td>\n",
       "      <td>None</td>\n",
       "      <td>3240.0</td>\n",
       "      <td>2</td>\n",
       "      <td>3240.0</td>\n",
       "    </tr>\n",
       "    <tr>\n",
       "      <th>1</th>\n",
       "      <td>2020-01-13 09:31:00</td>\n",
       "      <td>RBL8</td>\n",
       "      <td>3603.0</td>\n",
       "      <td>-1</td>\n",
       "      <td>1000022.797</td>\n",
       "      <td>Order_7T9KasMz</td>\n",
       "      <td>Order_7T9KasMz</td>\n",
       "      <td>sell</td>\n",
       "      <td>x1</td>\n",
       "      <td>3.603</td>\n",
       "      <td>0</td>\n",
       "      <td>None</td>\n",
       "      <td>0.0</td>\n",
       "      <td>-3</td>\n",
       "      <td>0.0</td>\n",
       "    </tr>\n",
       "  </tbody>\n",
       "</table>\n",
       "</div>"
      ],
      "text/plain": [
       "              datetime  code   price  amount         cash        order_id  \\\n",
       "0  2020-01-10 09:31:00  RBL8  3600.0       1   996756.400  Order_tuG7OnAT   \n",
       "1  2020-01-13 09:31:00  RBL8  3603.0      -1  1000022.797  Order_7T9KasMz   \n",
       "\n",
       "     realorder_id trade_id account_cookie  commission  tax message  frozen  \\\n",
       "0  Order_tuG7OnAT      buy             x1       3.600    0    None  3240.0   \n",
       "1  Order_7T9KasMz     sell             x1       3.603    0    None     0.0   \n",
       "\n",
       "   direction  total_frozen  \n",
       "0          2        3240.0  \n",
       "1         -3           0.0  "
      ]
     },
     "execution_count": 22,
     "metadata": {},
     "output_type": "execute_result"
    }
   ],
   "source": [
    "x1.history_table"
   ]
  }
 ],
 "metadata": {
  "kernelspec": {
   "display_name": "Python 3",
   "language": "python",
   "name": "python3"
  },
  "language_info": {
   "codemirror_mode": {
    "name": "ipython",
    "version": 3
   },
   "file_extension": ".py",
   "mimetype": "text/x-python",
   "name": "python",
   "nbconvert_exporter": "python",
   "pygments_lexer": "ipython3",
   "version": "3.7.4"
  }
 },
 "nbformat": 4,
 "nbformat_minor": 2
}
