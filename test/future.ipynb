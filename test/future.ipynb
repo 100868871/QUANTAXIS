{
 "cells": [
  {
   "cell_type": "code",
   "execution_count": 52,
   "metadata": {
    "collapsed": true
   },
   "outputs": [],
   "source": [
    "from ParadoxTrading.Fetch import FetchGuoJinTick, FetchSHFEDayIndex\n",
    "from ParadoxTrading.Fetch import FetchGuoJinMin, RegisterGuoJinMin\n",
    "fetcher = FetchGuoJinTick()\n",
    "fetcher.psql_host = '192.168.4.102'\n",
    "fetcher.psql_user = 'ubuntu'\n",
    "fetcher.mongo_host = '192.168.4.102'\n",
    "fetcher_min = FetchGuoJinMin()\n",
    "fetcher_min.psql_host = '192.168.4.102'\n",
    "fetcher_min.psql_user = 'ubuntu'\n",
    "fetcher_min.mongo_host = '192.168.4.102'"
   ]
  },
  {
   "cell_type": "code",
   "execution_count": 79,
   "metadata": {
    "collapsed": false
   },
   "outputs": [
    {
     "name": "stdout",
     "output_type": "stream",
     "text": [
      "rb1609\n",
      "ag1612\n"
     ]
    }
   ],
   "source": [
    "fetcher.fetchSymbol('20160602','rb')\n",
    "print(fetcher.fetchSymbol('20160506', _instrument='rb1609'))\n",
    "print(fetcher.fetchDominant('ag', '20160506'))\n"
   ]
  },
  {
   "cell_type": "code",
   "execution_count": 80,
   "metadata": {
    "collapsed": true
   },
   "outputs": [],
   "source": [
    "data=fetcher.fetchData('20160506', fetcher.fetchSymbol('20160506', 'rb'))"
   ]
  },
  {
   "cell_type": "code",
   "execution_count": 67,
   "metadata": {
    "collapsed": false
   },
   "outputs": [],
   "source": [
    "a=data.toRows()\n",
    "a1=data.toRows()"
   ]
  },
  {
   "cell_type": "code",
   "execution_count": 54,
   "metadata": {
    "collapsed": false,
    "scrolled": false
   },
   "outputs": [],
   "source": [
    "data1=fetcher_min.fetchData('20160506', fetcher.fetchSymbol('20160506', 'rb'))"
   ]
  },
  {
   "cell_type": "code",
   "execution_count": 55,
   "metadata": {
    "collapsed": true
   },
   "outputs": [],
   "source": [
    "b=data.toDicts()\n",
    "b1=data1.toDicts()"
   ]
  },
  {
   "cell_type": "code",
   "execution_count": 64,
   "metadata": {
    "collapsed": false
   },
   "outputs": [
    {
     "data": {
      "text/plain": [
       "'2016-05-05 20:59:00'"
      ]
     },
     "execution_count": 64,
     "metadata": {},
     "output_type": "execute_result"
    }
   ],
   "source": [
    "str(b1[0]['bartime'])"
   ]
  },
  {
   "cell_type": "code",
   "execution_count": 78,
   "metadata": {
    "collapsed": false,
    "scrolled": false
   },
   "outputs": [
    {
     "data": {
      "text/plain": [
       "'askvolume'"
      ]
     },
     "execution_count": 78,
     "metadata": {},
     "output_type": "execute_result"
    }
   ],
   "source": [
    "a1[1][1]"
   ]
  }
 ],
 "metadata": {
  "kernelspec": {
   "display_name": "Python 3",
   "language": "python",
   "name": "python3"
  },
  "language_info": {
   "codemirror_mode": {
    "name": "ipython",
    "version": 3
   },
   "file_extension": ".py",
   "mimetype": "text/x-python",
   "name": "python",
   "nbconvert_exporter": "python",
   "pygments_lexer": "ipython3",
   "version": "3.6.0"
  }
 },
 "nbformat": 4,
 "nbformat_minor": 2
}
